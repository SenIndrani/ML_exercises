{
 "cells": [
  {
   "cell_type": "code",
   "execution_count": 21,
   "id": "f6712218",
   "metadata": {},
   "outputs": [],
   "source": [
    "from tensorflow.keras.datasets import mnist\n",
    "import matplotlib.pyplot as plt\n",
    "from tensorflow.keras.utils import to_categorical"
   ]
  },
  {
   "cell_type": "code",
   "execution_count": 2,
   "id": "3eb63c2f",
   "metadata": {},
   "outputs": [],
   "source": [
    "(x_train, y_train), (x_test, y_test) = mnist.load_data()"
   ]
  },
  {
   "cell_type": "code",
   "execution_count": 28,
   "id": "285f04b2",
   "metadata": {},
   "outputs": [
    {
     "name": "stdout",
     "output_type": "stream",
     "text": [
      "(60000, 28, 28)\n",
      "(60000,)\n",
      "(10000, 28, 28)\n",
      "(10000,)\n"
     ]
    }
   ],
   "source": [
    "print(x_train.shape)\n",
    "print(y_train.shape)\n",
    "print(x_test.shape)\n",
    "print(y_test.shape)"
   ]
  },
  {
   "cell_type": "code",
   "execution_count": 6,
   "id": "a1fe1054",
   "metadata": {},
   "outputs": [
    {
     "data": {
      "text/plain": [
       "(28, 28)"
      ]
     },
     "execution_count": 6,
     "metadata": {},
     "output_type": "execute_result"
    }
   ],
   "source": [
    "x_train[0].shape"
   ]
  },
  {
   "cell_type": "code",
   "execution_count": 10,
   "id": "667773aa",
   "metadata": {},
   "outputs": [
    {
     "data": {
      "text/plain": [
       "0"
      ]
     },
     "execution_count": 10,
     "metadata": {},
     "output_type": "execute_result"
    }
   ],
   "source": [
    "y_train[169]"
   ]
  },
  {
   "cell_type": "code",
   "execution_count": 11,
   "id": "b128bd25",
   "metadata": {},
   "outputs": [
    {
     "data": {
      "image/png": "[encoded data removed]",
      "text/plain": [
       "<Figure size 640x480 with 1 Axes>"
      ]
     },
     "metadata": {},
     "output_type": "display_data"
    }
   ],
   "source": [
    "plt.imshow(x_train[169], cmap=\"gray\")\n",
    "plt.show()"
   ]
  },
  {
   "cell_type": "markdown",
   "id": "c6408643",
   "metadata": {},
   "source": [
    "### Preparing the dataset"
   ]
  },
  {
   "cell_type": "code",
   "execution_count": 17,
   "id": "9ccdf031",
   "metadata": {},
   "outputs": [],
   "source": [
    "x_train_flat = x_train.reshape((60000,28*28))\n",
    "x_test_flat = x_test.reshape((10000,28*28))"
   ]
  },
  {
   "cell_type": "code",
   "execution_count": 29,
   "id": "5b7676a9",
   "metadata": {},
   "outputs": [],
   "source": [
    "y_train_ohe = to_categorical(y_train)\n",
    "y_test_ohe = to_categorical(y_test)"
   ]
  },
  {
   "cell_type": "code",
   "execution_count": 30,
   "id": "20870e28",
   "metadata": {},
   "outputs": [
    {
     "name": "stdout",
     "output_type": "stream",
     "text": [
      "(60000, 784)\n",
      "(60000, 10)\n",
      "(10000, 784)\n",
      "(10000, 10)\n"
     ]
    }
   ],
   "source": [
    "print(x_train_flat.shape)\n",
    "print(y_train_ohe.shape)\n",
    "print(x_test_flat.shape)\n",
    "print(y_test_ohe.shape)"
   ]
  },
  {
   "cell_type": "markdown",
   "id": "bbb8d678",
   "metadata": {},
   "source": [
    "## Model Building"
   ]
  },
  {
   "cell_type": "code",
   "execution_count": 97,
   "id": "2b1545a5",
   "metadata": {},
   "outputs": [],
   "source": [
    "from tensorflow.keras.models import Sequential\n",
    "from tensorflow.keras.layers import Input, Dense, Dropout\n",
    "from tensorflow.keras.optimizers import Adadelta"
   ]
  },
  {
   "cell_type": "code",
   "execution_count": 98,
   "id": "abe6c3bc",
   "metadata": {},
   "outputs": [],
   "source": [
    "model = Sequential()\n",
    "model.add(Input(shape=(784)))\n",
    "model.add(Dropout(0.25))\n",
    "model.add(Dense(300, activation=\"relu\"))\n",
    "model.add(Dense(10, activation=\"softmax\"))"
   ]
  },
  {
   "cell_type": "code",
   "execution_count": 80,
   "id": "fc66559a",
   "metadata": {},
   "outputs": [
    {
     "data": {
      "text/plain": [
       "238510"
      ]
     },
     "execution_count": 80,
     "metadata": {},
     "output_type": "execute_result"
    }
   ],
   "source": [
    "(784*300 + 300) + (300*10 + 10)"
   ]
  },
  {
   "cell_type": "code",
   "execution_count": 99,
   "id": "2691bdd0",
   "metadata": {},
   "outputs": [],
   "source": [
    "model.compile(optimizer = Adadelta(learning_rate=0.1), loss = \"categorical_crossentropy\", metrics = \"accuracy\")"
   ]
  },
  {
   "cell_type": "code",
   "execution_count": 100,
   "id": "192f9379",
   "metadata": {},
   "outputs": [
    {
     "name": "stdout",
     "output_type": "stream",
     "text": [
      "Epoch 1/75\n",
      "60/60 [==============================] - 1s 16ms/step - loss: 49.5642 - accuracy: 0.4526 - val_loss: 10.9895 - val_accuracy: 0.7874\n",
      "Epoch 2/75\n",
      "60/60 [==============================] - 1s 14ms/step - loss: 17.7749 - accuracy: 0.7156 - val_loss: 6.8939 - val_accuracy: 0.8671\n",
      "Epoch 3/75\n",
      "60/60 [==============================] - 1s 15ms/step - loss: 12.2842 - accuracy: 0.7864 - val_loss: 5.5168 - val_accuracy: 0.8938\n",
      "Epoch 4/75\n",
      "60/60 [==============================] - 1s 15ms/step - loss: 9.4223 - accuracy: 0.8260 - val_loss: 4.4559 - val_accuracy: 0.9097\n",
      "Epoch 5/75\n",
      "60/60 [==============================] - 1s 15ms/step - loss: 7.6824 - accuracy: 0.8467 - val_loss: 3.7698 - val_accuracy: 0.9204\n",
      "Epoch 6/75\n",
      "60/60 [==============================] - 1s 15ms/step - loss: 6.5249 - accuracy: 0.8645 - val_loss: 3.2989 - val_accuracy: 0.9266\n",
      "Epoch 7/75\n",
      "60/60 [==============================] - 1s 17ms/step - loss: 5.6468 - accuracy: 0.8739 - val_loss: 2.8602 - val_accuracy: 0.9331\n",
      "Epoch 8/75\n",
      "60/60 [==============================] - 1s 16ms/step - loss: 4.9606 - accuracy: 0.8847 - val_loss: 2.7139 - val_accuracy: 0.9338\n",
      "Epoch 9/75\n",
      "60/60 [==============================] - 1s 16ms/step - loss: 4.4371 - accuracy: 0.8916 - val_loss: 2.4117 - val_accuracy: 0.9379\n",
      "Epoch 10/75\n",
      "60/60 [==============================] - 1s 15ms/step - loss: 3.9608 - accuracy: 0.8968 - val_loss: 2.1314 - val_accuracy: 0.9442\n",
      "Epoch 11/75\n",
      "60/60 [==============================] - 1s 16ms/step - loss: 3.5825 - accuracy: 0.9030 - val_loss: 2.0625 - val_accuracy: 0.9424\n",
      "Epoch 12/75\n",
      "60/60 [==============================] - 1s 15ms/step - loss: 3.3300 - accuracy: 0.9062 - val_loss: 1.8891 - val_accuracy: 0.9474\n",
      "Epoch 13/75\n",
      "60/60 [==============================] - 1s 15ms/step - loss: 3.0295 - accuracy: 0.9116 - val_loss: 1.7539 - val_accuracy: 0.9489\n",
      "Epoch 14/75\n",
      "60/60 [==============================] - 1s 15ms/step - loss: 2.8409 - accuracy: 0.9152 - val_loss: 1.5921 - val_accuracy: 0.9515\n",
      "Epoch 15/75\n",
      "60/60 [==============================] - 1s 16ms/step - loss: 2.6829 - accuracy: 0.9182 - val_loss: 1.5266 - val_accuracy: 0.9530\n",
      "Epoch 16/75\n",
      "60/60 [==============================] - 1s 15ms/step - loss: 2.5135 - accuracy: 0.9192 - val_loss: 1.4526 - val_accuracy: 0.9535\n",
      "Epoch 17/75\n",
      "60/60 [==============================] - 1s 15ms/step - loss: 2.3067 - accuracy: 0.9252 - val_loss: 1.3483 - val_accuracy: 0.9559\n",
      "Epoch 18/75\n",
      "60/60 [==============================] - 1s 14ms/step - loss: 2.1908 - accuracy: 0.9268 - val_loss: 1.2707 - val_accuracy: 0.9580\n",
      "Epoch 19/75\n",
      "60/60 [==============================] - 1s 17ms/step - loss: 2.0383 - accuracy: 0.9286 - val_loss: 1.2327 - val_accuracy: 0.9589\n",
      "Epoch 20/75\n",
      "60/60 [==============================] - 1s 16ms/step - loss: 1.9337 - accuracy: 0.9303 - val_loss: 1.1765 - val_accuracy: 0.9593\n",
      "Epoch 21/75\n",
      "60/60 [==============================] - 1s 15ms/step - loss: 1.8424 - accuracy: 0.9337 - val_loss: 1.1335 - val_accuracy: 0.9603\n",
      "Epoch 22/75\n",
      "60/60 [==============================] - 1s 15ms/step - loss: 1.7825 - accuracy: 0.9342 - val_loss: 1.1368 - val_accuracy: 0.9589\n",
      "Epoch 23/75\n",
      "60/60 [==============================] - 1s 15ms/step - loss: 1.7319 - accuracy: 0.9353 - val_loss: 1.0525 - val_accuracy: 0.9630\n",
      "Epoch 24/75\n",
      "60/60 [==============================] - 1s 18ms/step - loss: 1.6403 - accuracy: 0.9384 - val_loss: 1.0289 - val_accuracy: 0.9635\n",
      "Epoch 25/75\n",
      "60/60 [==============================] - 1s 17ms/step - loss: 1.5772 - accuracy: 0.9388 - val_loss: 0.9593 - val_accuracy: 0.9643\n",
      "Epoch 26/75\n",
      "60/60 [==============================] - 1s 15ms/step - loss: 1.5362 - accuracy: 0.9394 - val_loss: 0.9285 - val_accuracy: 0.9653\n",
      "Epoch 27/75\n",
      "60/60 [==============================] - 1s 16ms/step - loss: 1.4684 - accuracy: 0.9416 - val_loss: 0.9543 - val_accuracy: 0.9640\n",
      "Epoch 28/75\n",
      "60/60 [==============================] - 1s 16ms/step - loss: 1.3877 - accuracy: 0.9428 - val_loss: 0.9285 - val_accuracy: 0.9652\n",
      "Epoch 29/75\n",
      "60/60 [==============================] - 1s 17ms/step - loss: 1.3244 - accuracy: 0.9439 - val_loss: 0.8858 - val_accuracy: 0.9657\n",
      "Epoch 30/75\n",
      "60/60 [==============================] - 1s 16ms/step - loss: 1.2718 - accuracy: 0.9461 - val_loss: 0.8353 - val_accuracy: 0.9664\n",
      "Epoch 31/75\n",
      "60/60 [==============================] - 1s 16ms/step - loss: 1.2757 - accuracy: 0.9468 - val_loss: 0.8432 - val_accuracy: 0.9679\n",
      "Epoch 32/75\n",
      "60/60 [==============================] - 1s 17ms/step - loss: 1.2005 - accuracy: 0.9473 - val_loss: 0.8232 - val_accuracy: 0.9670\n",
      "Epoch 33/75\n",
      "60/60 [==============================] - 1s 19ms/step - loss: 1.1671 - accuracy: 0.9487 - val_loss: 0.7730 - val_accuracy: 0.9680\n",
      "Epoch 34/75\n",
      "60/60 [==============================] - 1s 17ms/step - loss: 1.1305 - accuracy: 0.9497 - val_loss: 0.8427 - val_accuracy: 0.9673\n",
      "Epoch 35/75\n",
      "60/60 [==============================] - 1s 16ms/step - loss: 1.1192 - accuracy: 0.9516 - val_loss: 0.7026 - val_accuracy: 0.9705\n",
      "Epoch 36/75\n",
      "60/60 [==============================] - 1s 17ms/step - loss: 1.0611 - accuracy: 0.9516 - val_loss: 0.8102 - val_accuracy: 0.9673\n",
      "Epoch 37/75\n",
      "60/60 [==============================] - 1s 15ms/step - loss: 1.0411 - accuracy: 0.9527 - val_loss: 0.7105 - val_accuracy: 0.9690\n",
      "Epoch 38/75\n",
      "60/60 [==============================] - 1s 15ms/step - loss: 1.0100 - accuracy: 0.9521 - val_loss: 0.7718 - val_accuracy: 0.9685\n",
      "Epoch 39/75\n",
      "60/60 [==============================] - 1s 15ms/step - loss: 0.9522 - accuracy: 0.9554 - val_loss: 0.7369 - val_accuracy: 0.9705\n",
      "Epoch 40/75\n",
      "60/60 [==============================] - 1s 15ms/step - loss: 0.8995 - accuracy: 0.9561 - val_loss: 0.7323 - val_accuracy: 0.9679\n",
      "Epoch 41/75\n",
      "60/60 [==============================] - 1s 15ms/step - loss: 0.9362 - accuracy: 0.9548 - val_loss: 0.6939 - val_accuracy: 0.9698\n",
      "Epoch 42/75\n",
      "60/60 [==============================] - 1s 15ms/step - loss: 0.8641 - accuracy: 0.9561 - val_loss: 0.6869 - val_accuracy: 0.9689\n",
      "Epoch 43/75\n",
      "60/60 [==============================] - 1s 15ms/step - loss: 0.8825 - accuracy: 0.9565 - val_loss: 0.7257 - val_accuracy: 0.9687\n",
      "Epoch 44/75\n",
      "60/60 [==============================] - 1s 18ms/step - loss: 0.8599 - accuracy: 0.9566 - val_loss: 0.6853 - val_accuracy: 0.9678\n",
      "Epoch 45/75\n",
      "60/60 [==============================] - 1s 17ms/step - loss: 0.8111 - accuracy: 0.9585 - val_loss: 0.6717 - val_accuracy: 0.9715\n",
      "Epoch 46/75\n",
      "60/60 [==============================] - 1s 16ms/step - loss: 0.8252 - accuracy: 0.9584 - val_loss: 0.6264 - val_accuracy: 0.9724\n",
      "Epoch 47/75\n",
      "60/60 [==============================] - 1s 18ms/step - loss: 0.7862 - accuracy: 0.9585 - val_loss: 0.6365 - val_accuracy: 0.9722\n",
      "Epoch 48/75\n",
      "60/60 [==============================] - 1s 17ms/step - loss: 0.7794 - accuracy: 0.9602 - val_loss: 0.6544 - val_accuracy: 0.9714\n",
      "Epoch 49/75\n",
      "60/60 [==============================] - 1s 17ms/step - loss: 0.7561 - accuracy: 0.9600 - val_loss: 0.6234 - val_accuracy: 0.9733\n",
      "Epoch 50/75\n",
      "60/60 [==============================] - 1s 15ms/step - loss: 0.7330 - accuracy: 0.9602 - val_loss: 0.6431 - val_accuracy: 0.9727\n",
      "Epoch 51/75\n",
      "60/60 [==============================] - 1s 15ms/step - loss: 0.7196 - accuracy: 0.9612 - val_loss: 0.6660 - val_accuracy: 0.9704\n",
      "Epoch 52/75\n",
      "60/60 [==============================] - 1s 16ms/step - loss: 0.7066 - accuracy: 0.9617 - val_loss: 0.6537 - val_accuracy: 0.9718\n",
      "Epoch 53/75\n",
      "60/60 [==============================] - 1s 17ms/step - loss: 0.7221 - accuracy: 0.9620 - val_loss: 0.6166 - val_accuracy: 0.9729\n",
      "Epoch 54/75\n",
      "60/60 [==============================] - 1s 15ms/step - loss: 0.6953 - accuracy: 0.9625 - val_loss: 0.6060 - val_accuracy: 0.9720\n",
      "Epoch 55/75\n",
      "60/60 [==============================] - 1s 15ms/step - loss: 0.6941 - accuracy: 0.9630 - val_loss: 0.5292 - val_accuracy: 0.9753\n",
      "Epoch 56/75\n",
      "60/60 [==============================] - 1s 15ms/step - loss: 0.6756 - accuracy: 0.9631 - val_loss: 0.6005 - val_accuracy: 0.9733\n",
      "Epoch 57/75\n",
      "60/60 [==============================] - 1s 15ms/step - loss: 0.6421 - accuracy: 0.9639 - val_loss: 0.5785 - val_accuracy: 0.9733\n",
      "Epoch 58/75\n",
      "60/60 [==============================] - 1s 15ms/step - loss: 0.6517 - accuracy: 0.9631 - val_loss: 0.6109 - val_accuracy: 0.9718\n"
     ]
    },
    {
     "name": "stdout",
     "output_type": "stream",
     "text": [
      "Epoch 59/75\n",
      "60/60 [==============================] - 1s 15ms/step - loss: 0.6150 - accuracy: 0.9651 - val_loss: 0.6095 - val_accuracy: 0.9722\n",
      "Epoch 60/75\n",
      "60/60 [==============================] - 1s 15ms/step - loss: 0.5633 - accuracy: 0.9655 - val_loss: 0.6214 - val_accuracy: 0.9718\n",
      "Epoch 61/75\n",
      "60/60 [==============================] - 1s 15ms/step - loss: 0.5997 - accuracy: 0.9655 - val_loss: 0.5504 - val_accuracy: 0.9753\n",
      "Epoch 62/75\n",
      "60/60 [==============================] - 1s 14ms/step - loss: 0.5681 - accuracy: 0.9658 - val_loss: 0.5814 - val_accuracy: 0.9735\n",
      "Epoch 63/75\n",
      "60/60 [==============================] - 1s 15ms/step - loss: 0.5733 - accuracy: 0.9672 - val_loss: 0.5425 - val_accuracy: 0.9739\n",
      "Epoch 64/75\n",
      "60/60 [==============================] - 1s 14ms/step - loss: 0.5865 - accuracy: 0.9661 - val_loss: 0.5705 - val_accuracy: 0.9745\n",
      "Epoch 65/75\n",
      "60/60 [==============================] - 1s 14ms/step - loss: 0.5529 - accuracy: 0.9672 - val_loss: 0.5451 - val_accuracy: 0.9756\n",
      "Epoch 66/75\n",
      "60/60 [==============================] - 1s 15ms/step - loss: 0.5382 - accuracy: 0.9674 - val_loss: 0.5253 - val_accuracy: 0.9764\n",
      "Epoch 67/75\n",
      "60/60 [==============================] - 1s 15ms/step - loss: 0.5374 - accuracy: 0.9668 - val_loss: 0.5132 - val_accuracy: 0.9750\n",
      "Epoch 68/75\n",
      "60/60 [==============================] - 1s 17ms/step - loss: 0.5236 - accuracy: 0.9684 - val_loss: 0.5361 - val_accuracy: 0.9749\n",
      "Epoch 69/75\n",
      "60/60 [==============================] - 1s 16ms/step - loss: 0.5047 - accuracy: 0.9687 - val_loss: 0.5273 - val_accuracy: 0.9752\n",
      "Epoch 70/75\n",
      "60/60 [==============================] - 1s 15ms/step - loss: 0.5236 - accuracy: 0.9681 - val_loss: 0.5278 - val_accuracy: 0.9754\n",
      "Epoch 71/75\n",
      "60/60 [==============================] - 1s 14ms/step - loss: 0.5149 - accuracy: 0.9694 - val_loss: 0.5229 - val_accuracy: 0.9752\n",
      "Epoch 72/75\n",
      "60/60 [==============================] - 1s 15ms/step - loss: 0.4831 - accuracy: 0.9699 - val_loss: 0.5082 - val_accuracy: 0.9767\n",
      "Epoch 73/75\n",
      "60/60 [==============================] - 1s 14ms/step - loss: 0.4528 - accuracy: 0.9702 - val_loss: 0.4764 - val_accuracy: 0.9769\n",
      "Epoch 74/75\n",
      "60/60 [==============================] - 1s 15ms/step - loss: 0.4943 - accuracy: 0.9703 - val_loss: 0.5128 - val_accuracy: 0.9747\n",
      "Epoch 75/75\n",
      "60/60 [==============================] - 1s 14ms/step - loss: 0.4481 - accuracy: 0.9705 - val_loss: 0.5103 - val_accuracy: 0.9745\n"
     ]
    },
    {
     "data": {
      "text/plain": [
       "<tensorflow.python.keras.callbacks.History at 0x1f340ee2a30>"
      ]
     },
     "execution_count": 100,
     "metadata": {},
     "output_type": "execute_result"
    }
   ],
   "source": [
    "# Step 3: Model Fit\n",
    "model.fit(x=x_train_flat, y=y_train_ohe, batch_size = 1000, \n",
    "          epochs=75, validation_data = (x_test_flat, y_test_ohe))"
   ]
  },
  {
   "cell_type": "code",
   "execution_count": 101,
   "id": "0c42082c",
   "metadata": {},
   "outputs": [],
   "source": [
    "hist = model.history.history"
   ]
  },
  {
   "cell_type": "code",
   "execution_count": 102,
   "id": "df16a839",
   "metadata": {
    "scrolled": false
   },
   "outputs": [
    {
     "data": {
      "image/png": "[encoded data removed]",
      "text/plain": [
       "<Figure size 640x480 with 1 Axes>"
      ]
     },
     "metadata": {},
     "output_type": "display_data"
    }
   ],
   "source": [
    "train_loss = hist[\"loss\"]\n",
    "val_loss = hist['val_loss']\n",
    "\n",
    "plt.plot(train_loss)\n",
    "plt.plot(val_loss)\n",
    "# plt.ylim(20,120)\n",
    "plt.xlabel(\"Epochs\")\n",
    "plt.ylabel(\"LOSS\")\n",
    "plt.legend([\"Train\", \"Validation\"])\n",
    "plt.grid()\n",
    "plt.show()"
   ]
  },
  {
   "cell_type": "code",
   "execution_count": 103,
   "id": "a1165003",
   "metadata": {
    "scrolled": true
   },
   "outputs": [
    {
     "data": {
      "image/png": "[encoded data removed]",
      "text/plain": [
       "<Figure size 640x480 with 1 Axes>"
      ]
     },
     "metadata": {},
     "output_type": "display_data"
    }
   ],
   "source": [
    "train_accuracy = hist[\"accuracy\"]\n",
    "val_accuracy = hist['val_accuracy']\n",
    "\n",
    "plt.plot(train_accuracy)\n",
    "plt.plot(val_accuracy)\n",
    "plt.ylim(0,1.1)\n",
    "plt.xlabel(\"Epochs\")\n",
    "plt.ylabel(\"Accuracy\")\n",
    "plt.legend([\"Train\", \"Validation\"])\n",
    "plt.grid()\n",
    "plt.show()"
   ]
  },
  {
   "cell_type": "code",
   "execution_count": 81,
   "id": "c6d1b921",
   "metadata": {},
   "outputs": [
    {
     "name": "stdout",
     "output_type": "stream",
     "text": [
      "Model: \"sequential_6\"\n",
      "_________________________________________________________________\n",
      "Layer (type)                 Output Shape              Param #   \n",
      "=================================================================\n",
      "dense_7 (Dense)              (None, 300)               235500    \n",
      "_________________________________________________________________\n",
      "dense_8 (Dense)              (None, 10)                3010      \n",
      "=================================================================\n",
      "Total params: 238,510\n",
      "Trainable params: 238,510\n",
      "Non-trainable params: 0\n",
      "_________________________________________________________________\n"
     ]
    }
   ],
   "source": [
    "model.summary()"
   ]
  },
  {
   "cell_type": "code",
   "execution_count": 94,
   "id": "83d5bf8e",
   "metadata": {},
   "outputs": [
    {
     "data": {
      "image/png": "[encoded data removed]",
      "text/plain": [
       "<Figure size 640x480 with 1 Axes>"
      ]
     },
     "metadata": {},
     "output_type": "display_data"
    }
   ],
   "source": [
    "plt.imshow(x_test[121], cmap=\"gray\")\n",
    "plt.title(y_test[121])\n",
    "plt.show()"
   ]
  },
  {
   "cell_type": "code",
   "execution_count": 91,
   "id": "850fccf4",
   "metadata": {},
   "outputs": [],
   "source": [
    "import numpy as np"
   ]
  },
  {
   "cell_type": "code",
   "execution_count": 95,
   "id": "3a3a3efd",
   "metadata": {},
   "outputs": [
    {
     "data": {
      "text/plain": [
       "array([3.9073250e-32, 0.0000000e+00, 0.0000000e+00, 0.0000000e+00,\n",
       "       1.0000000e+00, 0.0000000e+00, 2.5849739e-21, 2.6104045e-26,\n",
       "       1.5004209e-24, 0.0000000e+00], dtype=float32)"
      ]
     },
     "execution_count": 95,
     "metadata": {},
     "output_type": "execute_result"
    }
   ],
   "source": [
    "model.predict(x_test_flat)[121]"
   ]
  },
  {
   "cell_type": "code",
   "execution_count": 96,
   "id": "a8d172f4",
   "metadata": {
    "scrolled": true
   },
   "outputs": [
    {
     "data": {
      "text/plain": [
       "4"
      ]
     },
     "execution_count": 96,
     "metadata": {},
     "output_type": "execute_result"
    }
   ],
   "source": [
    "np.argmax(model.predict(x_test_flat)[121])"
   ]
  }
 ],
 "metadata": {
  "kernelspec": {
   "display_name": "tf",
   "language": "python",
   "name": "tf"
  },
  "language_info": {
   "codemirror_mode": {
    "name": "ipython",
    "version": 3
   },
   "file_extension": ".py",
   "mimetype": "text/x-python",
   "name": "python",
   "nbconvert_exporter": "python",
   "pygments_lexer": "ipython3",
   "version": "3.8.8"
  }
 },
 "nbformat": 4,
 "nbformat_minor": 5
}
